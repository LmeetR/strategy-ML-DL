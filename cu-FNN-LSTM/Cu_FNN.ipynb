{
 "cells": [
  {
   "cell_type": "code",
   "execution_count": 1,
   "metadata": {},
   "outputs": [],
   "source": [
    "import pandas as pd\n",
    "import numpy as np\n",
    "from warnings import filterwarnings\n",
    "filterwarnings('ignore')\n",
    "\n",
    "import matplotlib.pyplot as plt"
   ]
  },
  {
   "cell_type": "code",
   "execution_count": 2,
   "metadata": {},
   "outputs": [
    {
     "name": "stdout",
     "output_type": "stream",
     "text": [
      "<class 'pandas.io.pytables.HDFStore'>\n",
      "File path: E:/data/futures.h5\n",
      "/basic                   frame        (shape->[37,11])                             \n",
      "/daily_price             [invalid_HDFStore node: 'NoneType' object is not iterable]\n",
      "/daily_price             frame        (shape->[52303,16])                          \n",
      "/factors                 frame        (shape->[52291,19])                          \n",
      "/factors2                frame        (shape->[621,2])                             \n",
      "/logistic                frame        (shape->[52303,7])                           \n",
      "/quote                   frame        (shape->[1121,2])                            \n",
      "/randomforest            frame        (shape->[921,2])                             \n",
      "/support                                                                           \n"
     ]
    }
   ],
   "source": [
    "with pd.HDFStore('E:/data/futures.h5') as store:\n",
    "        print(store.info())\n",
    "        factors = store['factors2']"
   ]
  },
  {
   "cell_type": "code",
   "execution_count": 3,
   "metadata": {},
   "outputs": [],
   "source": [
    "cu = factors.xs('CU', level=1)\n",
    "select = ['high_low',\n",
    "          'high_close',\n",
    "          'close_low',\n",
    "          'close_open',\n",
    "          'gap',\n",
    "          'vol_change',\n",
    "          'oi_change',\n",
    "          'efficiency_10d',\n",
    "          'volatility',\n",
    "          'skewness',\n",
    "          'up_break',\n",
    "          'down_break',\n",
    "          'weekly_return',\n",
    "          'momentum_1m', \n",
    "          'label']\n",
    "cu = cu.loc[:, select] #选择14个特征\n",
    "cu.dropna(inplace=True)"
   ]
  },
  {
   "cell_type": "code",
   "execution_count": 4,
   "metadata": {},
   "outputs": [
    {
     "data": {
      "text/plain": [
       "(1901, 15)"
      ]
     },
     "execution_count": 4,
     "metadata": {},
     "output_type": "execute_result"
    }
   ],
   "source": [
    "cu.shape"
   ]
  },
  {
   "cell_type": "code",
   "execution_count": 5,
   "metadata": {},
   "outputs": [],
   "source": [
    "train_size = 1800\n",
    "x_train = cu.iloc[:train_size, :-1]\n",
    "y_train = cu.iloc[:train_size, -1]\n",
    "\n",
    "x_test = cu.iloc[train_size:, :-1]\n",
    "y_test = cu.iloc[train_size:, -1]\n",
    "\n",
    "#对输入进行标准化\n",
    "mean = x_train.mean(0)\n",
    "std = x_train.std(0)\n",
    "\n",
    "x_train -= mean\n",
    "x_train /= std\n",
    "\n",
    "x_test -= mean\n",
    "x_test /= std\n",
    "\n",
    "#将标签设置为one-hot编码\n",
    "y_train.where(y_train == 1, 0., inplace=True)\n",
    "y_test.where(y_test == 1, 0., inplace=True)"
   ]
  },
  {
   "cell_type": "code",
   "execution_count": 6,
   "metadata": {},
   "outputs": [
    {
     "name": "stderr",
     "output_type": "stream",
     "text": [
      "Using TensorFlow backend.\n"
     ]
    }
   ],
   "source": [
    "from keras import models\n",
    "from keras.layers import Dense, Dropout\n",
    "from keras.regularizers import l2, l1_l2"
   ]
  },
  {
   "cell_type": "code",
   "execution_count": 7,
   "metadata": {},
   "outputs": [],
   "source": [
    "#建立一个含有两个隐藏层的前馈神经网络，并使用L2正则化和dropout减小“过拟合”\n",
    "\n",
    "# 关于elu激活：https://blog.csdn.net/zrh_CSDN/article/details/81266188\n",
    "def build_model():\n",
    "    model = models.Sequential()\n",
    "    model.add(Dense(64, activation='elu', kernel_regularizer=l1_l2(0., 0.05), input_shape=(14,)))\n",
    "    model.add(Dropout(0.5))\n",
    "    model.add(Dense(32, activation='elu', kernel_regularizer=l1_l2(0., 0.05)))\n",
    "    model.add(Dropout(0.5))\n",
    "    model.add(Dense(16, activation='elu', kernel_regularizer=l1_l2(0., 0.05)))\n",
    "    model.add(Dropout(0.5))\n",
    "    model.add(Dense(1, activation='sigmoid'))\n",
    "    model.compile(optimizer='rmsprop', loss='binary_crossentropy', metrics=['accuracy'])\n",
    "    return model"
   ]
  },
  {
   "cell_type": "code",
   "execution_count": 8,
   "metadata": {},
   "outputs": [
    {
     "name": "stdout",
     "output_type": "stream",
     "text": [
      "WARNING:tensorflow:From C:\\ProgramData\\Anaconda3\\lib\\site-packages\\tensorflow\\python\\framework\\op_def_library.py:263: colocate_with (from tensorflow.python.framework.ops) is deprecated and will be removed in a future version.\n",
      "Instructions for updating:\n",
      "Colocations handled automatically by placer.\n",
      "WARNING:tensorflow:From C:\\ProgramData\\Anaconda3\\lib\\site-packages\\keras\\backend\\tensorflow_backend.py:3445: calling dropout (from tensorflow.python.ops.nn_ops) with keep_prob is deprecated and will be removed in a future version.\n",
      "Instructions for updating:\n",
      "Please use `rate` instead of `keep_prob`. Rate should be set to `rate = 1 - keep_prob`.\n",
      "WARNING:tensorflow:From C:\\ProgramData\\Anaconda3\\lib\\site-packages\\tensorflow\\python\\ops\\math_ops.py:3066: to_int32 (from tensorflow.python.ops.math_ops) is deprecated and will be removed in a future version.\n",
      "Instructions for updating:\n",
      "Use tf.cast instead.\n"
     ]
    }
   ],
   "source": [
    "#使用k折交叉验证来调节超参\n",
    "fold_size = 200\n",
    "k = train_size // fold_size\n",
    "epochs_N = 100\n",
    "batch_S = 512\n",
    "scores = []\n",
    "for i in range(k):\n",
    "    # 验证集是从原始train数据集中掏空(i*fold_size, (i+1)*fold_size)\n",
    "    # k折的训练集就是其余的部分的数据\n",
    "\n",
    "    # 验证集\n",
    "    x_val = x_train.iloc[i*fold_size : (i+1)*fold_size, :]\n",
    "    y_val = y_train[i*fold_size : (i+1)*fold_size]\n",
    "\n",
    "    # 训练集\n",
    "    x_train_ = pd.concat([x_train.iloc[:i*fold_size, :], x_train.iloc[(i+1)*fold_size:, :]])\n",
    "    y_train_ = pd.concat([y_train[:i*fold_size], y_train[(i+1)*fold_size:]])\n",
    "    \n",
    "    model = build_model()\n",
    "    history = model.fit(x_train_, y_train_, epochs=epochs_N, batch_size=batch_S, \n",
    "                        validation_data=(x_val, y_val), verbose=0)\n",
    "    scores.append(history.history['val_acc'])"
   ]
  },
  {
   "cell_type": "code",
   "execution_count": 9,
   "metadata": {},
   "outputs": [
    {
     "data": {
      "text/plain": [
       "<matplotlib.axes._subplots.AxesSubplot at 0x240acce8a58>"
      ]
     },
     "execution_count": 9,
     "metadata": {},
     "output_type": "execute_result"
    },
    {
     "data": {
      "image/png": "[encoded data removed]",
      "text/plain": [
       "<Figure size 432x288 with 1 Axes>"
      ]
     },
     "metadata": {
      "needs_background": "light"
     },
     "output_type": "display_data"
    }
   ],
   "source": [
    "# 变异系数（Coefficient of Variation, CV）是一个用来衡量数据集相对变异程度的统计指标。\n",
    "# 它定义为数据集标准差与均值的比率。变异系数常用于比较不同数据集的相对波动性，尤其是当数据集的均值差异较大时。\n",
    "scores_df = pd.DataFrame(scores).T\n",
    "score_cv = scores_df.mean(1) / scores_df.std(1)\n",
    "score_cv.plot() #accuracy的变异系数随着迭代次数的变化，图形并不稳定"
   ]
  },
  {
   "cell_type": "code",
   "execution_count": 40,
   "metadata": {
    "scrolled": true
   },
   "outputs": [
    {
     "name": "stdout",
     "output_type": "stream",
     "text": [
      "Epoch 1/50\n",
      "1800/1800 [==============================] - 2s 840us/step - loss: 5.0032 - acc: 0.5089\n",
      "Epoch 2/50\n",
      "1800/1800 [==============================] - 0s 19us/step - loss: 4.6704 - acc: 0.5078\n",
      "Epoch 3/50\n",
      "1800/1800 [==============================] - 0s 22us/step - loss: 4.4314 - acc: 0.5144\n",
      "Epoch 4/50\n",
      "1800/1800 [==============================] - 0s 19us/step - loss: 4.2476 - acc: 0.5022\n",
      "Epoch 5/50\n",
      "1800/1800 [==============================] - ETA: 0s - loss: 4.1570 - acc: 0.492 - 0s 19us/step - loss: 4.0872 - acc: 0.5117\n",
      "Epoch 6/50\n",
      "1800/1800 [==============================] - 0s 21us/step - loss: 3.9176 - acc: 0.5189\n",
      "Epoch 7/50\n",
      "1800/1800 [==============================] - 0s 18us/step - loss: 3.7923 - acc: 0.5194\n",
      "Epoch 8/50\n",
      "1800/1800 [==============================] - 0s 19us/step - loss: 3.6333 - acc: 0.5178\n",
      "Epoch 9/50\n",
      "1800/1800 [==============================] - 0s 23us/step - loss: 3.5003 - acc: 0.5144\n",
      "Epoch 10/50\n",
      "1800/1800 [==============================] - 0s 22us/step - loss: 3.3821 - acc: 0.5194\n",
      "Epoch 11/50\n",
      "1800/1800 [==============================] - 0s 19us/step - loss: 3.2479 - acc: 0.5150\n",
      "Epoch 12/50\n",
      "1800/1800 [==============================] - 0s 22us/step - loss: 3.1411 - acc: 0.4917\n",
      "Epoch 13/50\n",
      "1800/1800 [==============================] - 0s 21us/step - loss: 3.0217 - acc: 0.5067\n",
      "Epoch 14/50\n",
      "1800/1800 [==============================] - 0s 16us/step - loss: 2.9166 - acc: 0.5094\n",
      "Epoch 15/50\n",
      "1800/1800 [==============================] - 0s 21us/step - loss: 2.8023 - acc: 0.5067\n",
      "Epoch 16/50\n",
      "1800/1800 [==============================] - 0s 19us/step - loss: 2.6870 - acc: 0.5167\n",
      "Epoch 17/50\n",
      "1800/1800 [==============================] - 0s 23us/step - loss: 2.5847 - acc: 0.5250\n",
      "Epoch 18/50\n",
      "1800/1800 [==============================] - 0s 19us/step - loss: 2.4905 - acc: 0.5106\n",
      "Epoch 19/50\n",
      "1800/1800 [==============================] - 0s 19us/step - loss: 2.4014 - acc: 0.4922\n",
      "Epoch 20/50\n",
      "1800/1800 [==============================] - 0s 19us/step - loss: 2.3067 - acc: 0.5161\n",
      "Epoch 21/50\n",
      "1800/1800 [==============================] - 0s 27us/step - loss: 2.2169 - acc: 0.5261\n",
      "Epoch 22/50\n",
      "1800/1800 [==============================] - 0s 19us/step - loss: 2.1377 - acc: 0.5150\n",
      "Epoch 23/50\n",
      "1800/1800 [==============================] - 0s 22us/step - loss: 2.0578 - acc: 0.5128\n",
      "Epoch 24/50\n",
      "1800/1800 [==============================] - 0s 27us/step - loss: 1.9787 - acc: 0.5244\n",
      "Epoch 25/50\n",
      "1800/1800 [==============================] - 0s 27us/step - loss: 1.9067 - acc: 0.5022\n",
      "Epoch 26/50\n",
      "1800/1800 [==============================] - 0s 25us/step - loss: 1.8329 - acc: 0.5133\n",
      "Epoch 27/50\n",
      "1800/1800 [==============================] - 0s 23us/step - loss: 1.7659 - acc: 0.5111\n",
      "Epoch 28/50\n",
      "1800/1800 [==============================] - 0s 23us/step - loss: 1.6979 - acc: 0.5150\n",
      "Epoch 29/50\n",
      "1800/1800 [==============================] - 0s 22us/step - loss: 1.6345 - acc: 0.5161\n",
      "Epoch 30/50\n",
      "1800/1800 [==============================] - 0s 24us/step - loss: 1.5787 - acc: 0.5044\n",
      "Epoch 31/50\n",
      "1800/1800 [==============================] - 0s 19us/step - loss: 1.5221 - acc: 0.5044\n",
      "Epoch 32/50\n",
      "1800/1800 [==============================] - 0s 20us/step - loss: 1.4658 - acc: 0.5078\n",
      "Epoch 33/50\n",
      "1800/1800 [==============================] - 0s 20us/step - loss: 1.4143 - acc: 0.5056\n",
      "Epoch 34/50\n",
      "1800/1800 [==============================] - 0s 19us/step - loss: 1.3639 - acc: 0.5067\n",
      "Epoch 35/50\n",
      "1800/1800 [==============================] - 0s 20us/step - loss: 1.3160 - acc: 0.5178\n",
      "Epoch 36/50\n",
      "1800/1800 [==============================] - 0s 27us/step - loss: 1.2739 - acc: 0.5106\n",
      "Epoch 37/50\n",
      "1800/1800 [==============================] - 0s 24us/step - loss: 1.2300 - acc: 0.5211\n",
      "Epoch 38/50\n",
      "1800/1800 [==============================] - 0s 24us/step - loss: 1.1917 - acc: 0.5039\n",
      "Epoch 39/50\n",
      "1800/1800 [==============================] - 0s 17us/step - loss: 1.1527 - acc: 0.4950\n",
      "Epoch 40/50\n",
      "1800/1800 [==============================] - 0s 17us/step - loss: 1.1168 - acc: 0.5094\n",
      "Epoch 41/50\n",
      "1800/1800 [==============================] - 0s 19us/step - loss: 1.0835 - acc: 0.5178\n",
      "Epoch 42/50\n",
      "1800/1800 [==============================] - 0s 19us/step - loss: 1.0519 - acc: 0.5228\n",
      "Epoch 43/50\n",
      "1800/1800 [==============================] - 0s 19us/step - loss: 1.0212 - acc: 0.5278\n",
      "Epoch 44/50\n",
      "1800/1800 [==============================] - 0s 21us/step - loss: 0.9944 - acc: 0.5278\n",
      "Epoch 45/50\n",
      "1800/1800 [==============================] - 0s 17us/step - loss: 0.9702 - acc: 0.4994\n",
      "Epoch 46/50\n",
      "1800/1800 [==============================] - 0s 15us/step - loss: 0.9456 - acc: 0.5256\n",
      "Epoch 47/50\n",
      "1800/1800 [==============================] - 0s 18us/step - loss: 0.9236 - acc: 0.5189\n",
      "Epoch 48/50\n",
      "1800/1800 [==============================] - 0s 18us/step - loss: 0.9019 - acc: 0.5028\n",
      "Epoch 49/50\n",
      "1800/1800 [==============================] - 0s 19us/step - loss: 0.8831 - acc: 0.5089\n",
      "Epoch 50/50\n",
      "1800/1800 [==============================] - 0s 18us/step - loss: 0.8654 - acc: 0.5100\n"
     ]
    },
    {
     "data": {
      "text/plain": [
       "<keras.callbacks.History at 0x240b5e4e7f0>"
      ]
     },
     "execution_count": 40,
     "metadata": {},
     "output_type": "execute_result"
    },
    {
     "name": "stdout",
     "output_type": "stream",
     "text": [
      "1800/1800 [==============================] - 1s 354us/step\n"
     ]
    },
    {
     "data": {
      "text/plain": [
       "[0.8537505971060859, 0.5077777777777778]"
      ]
     },
     "execution_count": 40,
     "metadata": {},
     "output_type": "execute_result"
    },
    {
     "name": "stdout",
     "output_type": "stream",
     "text": [
      "101/101 [==============================] - 0s 69us/step\n"
     ]
    },
    {
     "data": {
      "text/plain": [
       "[0.8530314187012097, 0.5742574258901105]"
      ]
     },
     "execution_count": 40,
     "metadata": {},
     "output_type": "execute_result"
    }
   ],
   "source": [
    "model = build_model()\n",
    "model.fit(x_train, y_train, epochs=50, batch_size=batch_S)\n",
    "model.evaluate(x_train, y_train)\n",
    "model.evaluate(x_test, y_test) #结果同样存在一定的波动"
   ]
  },
  {
   "cell_type": "code",
   "execution_count": 41,
   "metadata": {},
   "outputs": [],
   "source": [
    "y_predict = pd.DataFrame(np.where(model.predict(x_test) >= 0.5, 1, 0), \n",
    "                         index=y_test.index, columns=['predict'])\n",
    "records = pd.concat([y_test, y_predict], axis=1)\n",
    "records['PL_label'] = np.where(records.label == records.predict, 1, -1)\n",
    "records['PL_label'] = records['PL_label'].shift(1) #将损益标签向未来移动一个交易日\n",
    "records.dropna(inplace=True)"
   ]
  },
  {
   "cell_type": "code",
   "execution_count": 42,
   "metadata": {},
   "outputs": [],
   "source": [
    "with pd.HDFStore('E:/data/futures.h5') as store:\n",
    "        quote = store['quote']\n",
    "\n",
    "# xs是用来从多级索引中选取值的\n",
    "cu_data = quote.xs('CU', level=1)"
   ]
  },
  {
   "cell_type": "code",
   "execution_count": 43,
   "metadata": {},
   "outputs": [],
   "source": [
    "import sys\n",
    "sys.path.append(r'C:\\Users\\54326\\Python_Code\\self\\paper')\n",
    "\n",
    "import BackTest as bt"
   ]
  },
  {
   "cell_type": "code",
   "execution_count": 44,
   "metadata": {},
   "outputs": [],
   "source": [
    "nav = bt.get_nav(records['PL_label'], cu_data['pchg'], trans_cost=0.0002)"
   ]
  },
  {
   "cell_type": "code",
   "execution_count": 45,
   "metadata": {},
   "outputs": [
    {
     "data": {
      "image/png": "[encoded data removed]",
      "text/plain": [
       "<Figure size 792x432 with 2 Axes>"
      ]
     },
     "metadata": {
      "needs_background": "light"
     },
     "output_type": "display_data"
    }
   ],
   "source": [
    "bt.nav_plot(nav, fig_size=(11, 6)) #由于预测结果不稳定，回测结果不是很可靠"
   ]
  }
 ],
 "metadata": {
  "kernelspec": {
   "display_name": "Python 3",
   "language": "python",
   "name": "python3"
  },
  "language_info": {
   "codemirror_mode": {
    "name": "ipython",
    "version": 3
   },
   "file_extension": ".py",
   "mimetype": "text/x-python",
   "name": "python",
   "nbconvert_exporter": "python",
   "pygments_lexer": "ipython3",
   "version": "3.6.8"
  }
 },
 "nbformat": 4,
 "nbformat_minor": 2
}
